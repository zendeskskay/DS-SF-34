{
 "cells": [
  {
   "cell_type": "code",
   "execution_count": 1,
   "metadata": {
    "collapsed": false
   },
   "outputs": [
    {
     "name": "stderr",
     "output_type": "stream",
     "text": [
      "/Users/skay/anaconda/lib/python2.7/site-packages/sklearn/cross_validation.py:43: DeprecationWarning: This module was deprecated in version 0.18 in favor of the model_selection module into which all the refactored classes and functions are moved. Also note that the interface of the new CV iterators are different from that of this module. This module will be removed in 0.20.\n",
      "  \"This module will be removed in 0.20.\", DeprecationWarning)\n",
      "/Users/skay/anaconda/lib/python2.7/site-packages/sklearn/grid_search.py:43: DeprecationWarning: This module was deprecated in version 0.18 in favor of the model_selection module into which all the refactored classes and functions are moved. This module will be removed in 0.20.\n",
      "  DeprecationWarning)\n"
     ]
    }
   ],
   "source": [
    "import pandas as pd\n",
    "import numpy as np\n",
    "import sklearn\n",
    "\n",
    "from sklearn import preprocessing, linear_model, metrics, model_selection\n",
    "from sklearn.model_selection import train_test_split\n",
    "from sklearn.grid_search import GridSearchCV\n",
    "\n",
    "import matplotlib.pyplot as plt\n",
    "%matplotlib inline"
   ]
  },
  {
   "cell_type": "code",
   "execution_count": 2,
   "metadata": {
    "collapsed": false
   },
   "outputs": [],
   "source": [
    "upgraded = pd.read_csv('upgraded_months.csv')\n",
    "not_upgraded = pd.read_csv('not_upgraded_months.csv')\n",
    "df = pd.concat([upgraded,not_upgraded], axis=0, join='outer')"
   ]
  },
  {
   "cell_type": "code",
   "execution_count": 3,
   "metadata": {
    "collapsed": false
   },
   "outputs": [
    {
     "data": {
      "text/plain": [
       "account_id                 0\n",
       "year_month_run             0\n",
       "year_month_won             0\n",
       "year_month_upgraded    88499\n",
       "upgraded_boolean           0\n",
       "age_in_months              0\n",
       "pre_upgrade_plan           0\n",
       "post_upgrade_plan      88499\n",
       "upgrade_levels             0\n",
       "num_agents                 0\n",
       "mrr_delta                 60\n",
       "num_trig                   3\n",
       "num_automations            3\n",
       "num_tags                   3\n",
       "num_macros                 3\n",
       "num_groups                56\n",
       "num_orgs                  56\n",
       "num_fields                56\n",
       "enabled_HC                 0\n",
       "enabled_redaction          0\n",
       "enabled_insights       77945\n",
       "enabled_talk               0\n",
       "enabled_widget             0\n",
       "enabled_csat               0\n",
       "enabled_hours              0\n",
       "enabled_slas               0\n",
       "enabled_HCcode         34189\n",
       "enabled_community      38582\n",
       "num_apps                   0\n",
       "num_tix_solved         12051\n",
       "dtype: int64"
      ]
     },
     "execution_count": 3,
     "metadata": {},
     "output_type": "execute_result"
    }
   ],
   "source": [
    "df.isnull().sum()"
   ]
  },
  {
   "cell_type": "code",
   "execution_count": 4,
   "metadata": {
    "collapsed": true
   },
   "outputs": [],
   "source": [
    "df = df.fillna(0)"
   ]
  },
  {
   "cell_type": "code",
   "execution_count": 5,
   "metadata": {
    "collapsed": false
   },
   "outputs": [
    {
     "name": "stdout",
     "output_type": "stream",
     "text": [
      "(5180, 30)\n",
      "(88499, 30)\n",
      "(93679, 30)\n"
     ]
    }
   ],
   "source": [
    "print upgraded.shape\n",
    "print not_upgraded.shape\n",
    "print df.shape"
   ]
  },
  {
   "cell_type": "code",
   "execution_count": 6,
   "metadata": {
    "collapsed": false
   },
   "outputs": [
    {
     "name": "stdout",
     "output_type": "stream",
     "text": [
      "Index([u'account_id', u'year_month_run', u'year_month_won',\n",
      "       u'year_month_upgraded', u'upgraded_boolean', u'age_in_months',\n",
      "       u'pre_upgrade_plan', u'post_upgrade_plan', u'upgrade_levels',\n",
      "       u'num_agents', u'mrr_delta', u'num_trig', u'num_automations',\n",
      "       u'num_tags', u'num_macros', u'num_groups', u'num_orgs', u'num_fields',\n",
      "       u'enabled_HC', u'enabled_redaction', u'enabled_insights',\n",
      "       u'enabled_talk', u'enabled_widget', u'enabled_csat', u'enabled_hours',\n",
      "       u'enabled_slas', u'enabled_HCcode', u'enabled_community', u'num_apps',\n",
      "       u'num_tix_solved'],\n",
      "      dtype='object')\n"
     ]
    }
   ],
   "source": [
    "print df.columns "
   ]
  },
  {
   "cell_type": "code",
   "execution_count": 7,
   "metadata": {
    "collapsed": false
   },
   "outputs": [],
   "source": [
    "df =  df.sort_values(by=['account_id', 'year_month_run'], axis = 0, ascending=[True, True])\n",
    "df = df.reset_index(drop = True)"
   ]
  },
  {
   "cell_type": "code",
   "execution_count": 8,
   "metadata": {
    "collapsed": false
   },
   "outputs": [],
   "source": [
    "df = df.drop(['year_month_won','year_month_upgraded','post_upgrade_plan','upgrade_levels','mrr_delta'], axis = 1)"
   ]
  },
  {
   "cell_type": "code",
   "execution_count": 11,
   "metadata": {
    "collapsed": false
   },
   "outputs": [
    {
     "data": {
      "text/plain": [
       "['num_agents',\n",
       " 'num_trig',\n",
       " 'num_automations',\n",
       " 'num_tags',\n",
       " 'num_macros',\n",
       " 'num_groups',\n",
       " 'num_orgs',\n",
       " 'num_fields',\n",
       " 'num_apps',\n",
       " 'num_tix_solved']"
      ]
     },
     "execution_count": 11,
     "metadata": {},
     "output_type": "execute_result"
    }
   ],
   "source": [
    "#CREATE MONTH OVER MONTH CHANGE RATIOS FOR ALL CONTINUOUS NUMERIC FEATURES\n",
    "features = df.columns.tolist()\n",
    "f1 = pd.DataFrame(features) \n",
    "continuous_features = f1[f1[0].str.contains(\"num_\")][0].tolist()\n",
    "continuous_features"
   ]
  },
  {
   "cell_type": "code",
   "execution_count": 12,
   "metadata": {
    "collapsed": false
   },
   "outputs": [
    {
     "name": "stdout",
     "output_type": "stream",
     "text": [
      "       account_id  year_month_run  upgraded_boolean  age_in_months  \\\n",
      "0           70796          201601                 0              1   \n",
      "1           70796          201602                 0              2   \n",
      "2           70796          201603                 0              3   \n",
      "3           70796          201604                 0              4   \n",
      "4           70796          201605                 0              5   \n",
      "5           70796          201606                 0              6   \n",
      "6           70796          201607                 0              7   \n",
      "7           70796          201608                 0              8   \n",
      "8           70796          201609                 0              9   \n",
      "9           70796          201610                 0             10   \n",
      "10          70796          201611                 0             11   \n",
      "11          70804          201610                 0              1   \n",
      "12          70804          201611                 0              2   \n",
      "13         119516          201601                 0              1   \n",
      "14         119516          201602                 0              2   \n",
      "15         119516          201603                 0              3   \n",
      "16         119516          201604                 0              4   \n",
      "17         119516          201605                 0              5   \n",
      "18         119516          201606                 0              6   \n",
      "19         119516          201607                 0              7   \n",
      "20         119516          201608                 0              8   \n",
      "21         119516          201609                 0              9   \n",
      "22         119516          201610                 0             10   \n",
      "23         119516          201611                 0             11   \n",
      "24         132242          201607                 0              1   \n",
      "25         132242          201608                 0              2   \n",
      "26         132242          201609                 0              3   \n",
      "27         132242          201610                 0              4   \n",
      "28         132242          201611                 0              5   \n",
      "29         142241          201611                 0              8   \n",
      "...           ...             ...               ...            ...   \n",
      "93649     1268952          201611                 0              1   \n",
      "93650     1268963          201611                 0              1   \n",
      "93651     1269034          201611                 0              1   \n",
      "93652     1269035          201611                 0              1   \n",
      "93653     1269143          201611                 0              1   \n",
      "93654     1269144          201611                 0              1   \n",
      "93655     1269292          201611                 0              1   \n",
      "93656     1269293          201611                 0              1   \n",
      "93657     1269756          201611                 0              1   \n",
      "93658     1269916          201611                 0              1   \n",
      "93659     1269924          201611                 0              1   \n",
      "93660     1270004          201611                 0              1   \n",
      "93661     1270060          201611                 0              1   \n",
      "93662     1270078          201611                 0              1   \n",
      "93663     1270167          201611                 0              1   \n",
      "93664     1270231          201611                 0              1   \n",
      "93665     1271041          201611                 1              1   \n",
      "93666     1271389          201611                 0              1   \n",
      "93667     1271894          201611                 0              1   \n",
      "93668     1271975          201611                 0              1   \n",
      "93669     1271989          201611                 0              1   \n",
      "93670     1272220          201611                 0              1   \n",
      "93671     1272536          201611                 0              1   \n",
      "93672     1272649          201611                 0              1   \n",
      "93673     1272657          201611                 0              1   \n",
      "93674     1272688          201611                 0              1   \n",
      "93675     1272717          201611                 0              1   \n",
      "93676     1272780          201611                 0              1   \n",
      "93677     1272986          201611                 0              1   \n",
      "93678     1290542          201611                 0              1   \n",
      "\n",
      "          pre_upgrade_plan  num_agents  num_trig  num_automations  num_tags  \\\n",
      "0                     Plus          26        46                9     12140   \n",
      "1                     Plus          26        41                4     12536   \n",
      "2                     Plus          26        43                4     12556   \n",
      "3                     Plus          26        45                4     12215   \n",
      "4                     Plus          26        29                4     11689   \n",
      "5                     Plus          26        28                4     10779   \n",
      "6                     Plus          26        28                4     10239   \n",
      "7                     Plus          26        28                4     10254   \n",
      "8                     Plus          26        28                4     10502   \n",
      "9                     Plus          26        36                4     11118   \n",
      "10                    Plus          26        35                4     12870   \n",
      "11     Enterprise (Legacy)         238       158                8   1318821   \n",
      "12     Enterprise (Legacy)         238       159               10   1430518   \n",
      "13     Enterprise (Legacy)           8        21               10     10333   \n",
      "14     Enterprise (Legacy)           8        23               10     10952   \n",
      "15     Enterprise (Legacy)          10        23               10     15587   \n",
      "16     Enterprise (Legacy)          10        23               10     17520   \n",
      "17     Enterprise (Legacy)          10        21                3     18833   \n",
      "18     Enterprise (Legacy)          11        21                3     21005   \n",
      "19     Enterprise (Legacy)          11        21                3     23037   \n",
      "20     Enterprise (Legacy)          11        21                3     24650   \n",
      "21     Enterprise (Legacy)          11        21                4     26897   \n",
      "22     Enterprise (Legacy)          11        21                4     28986   \n",
      "23     Enterprise (Legacy)          11        21                4     30689   \n",
      "24            Professional          20        18                5     62005   \n",
      "25            Professional          20        18                5     58407   \n",
      "26            Professional          20        18                5     63087   \n",
      "27            Professional          20        18                5     63479   \n",
      "28            Professional          20        18                5     64738   \n",
      "29     Enterprise (Legacy)           2        92               16     13120   \n",
      "...                    ...         ...       ...              ...       ...   \n",
      "93649            Essential           2         6                1         9   \n",
      "93650            Essential           2         6                1         3   \n",
      "93651         Professional           1         7                1         3   \n",
      "93652         Professional           2         5                1         8   \n",
      "93653            Essential           5         6                1         4   \n",
      "93654                 Team           1         7                1         5   \n",
      "93655                 Team           2         7                1         3   \n",
      "93656                 Team           1         7                1      2314   \n",
      "93657                 Team           3         7                1         3   \n",
      "93658                 Team           3         7                1         3   \n",
      "93659                 Team           3        10                1        29   \n",
      "93660            Essential           8         6                1         4   \n",
      "93661                 Team           6        12                3        16   \n",
      "93662                 Team           2         6                1        23   \n",
      "93663            Essential           3         6                1        19   \n",
      "93664                 Team           3         7                1        94   \n",
      "93665            Essential           4         6                1       205   \n",
      "93666         Professional           1         7                1         5   \n",
      "93667            Essential           2         6                1         4   \n",
      "93668            Essential           1         6                1         3   \n",
      "93669                 Team           2         7                1        17   \n",
      "93670                 Team           2         7                1         5   \n",
      "93671         Professional           2         7                1         0   \n",
      "93672         Professional           2         7                2       163   \n",
      "93673            Essential           1         6                1        12   \n",
      "93674                 Team           3         7                1         3   \n",
      "93675            Essential           3         6                1        10   \n",
      "93676            Essential           1         6                1       105   \n",
      "93677            Essential           1         6                1        42   \n",
      "93678         Professional           1        32                4         3   \n",
      "\n",
      "       num_macros           ...            enabled_talk  enabled_widget  \\\n",
      "0             106           ...                       0               0   \n",
      "1              89           ...                       0               0   \n",
      "2              72           ...                       0               0   \n",
      "3              72           ...                       0               0   \n",
      "4              75           ...                       0               0   \n",
      "5              75           ...                       0               0   \n",
      "6              77           ...                       0               1   \n",
      "7              50           ...                       0               1   \n",
      "8              51           ...                       0               1   \n",
      "9              51           ...                       0               1   \n",
      "10             54           ...                       0               1   \n",
      "11            587           ...                       0               1   \n",
      "12            603           ...                       0               1   \n",
      "13             17           ...                       0               1   \n",
      "14             19           ...                       0               1   \n",
      "15             19           ...                       0               1   \n",
      "16             20           ...                       0               1   \n",
      "17             20           ...                       0               1   \n",
      "18             21           ...                       0               1   \n",
      "19             21           ...                       0               1   \n",
      "20             24           ...                       0               1   \n",
      "21             36           ...                       0               1   \n",
      "22             36           ...                       0               1   \n",
      "23             39           ...                       0               1   \n",
      "24             19           ...                       0               0   \n",
      "25             19           ...                       0               0   \n",
      "26             19           ...                       0               0   \n",
      "27             19           ...                       0               0   \n",
      "28             19           ...                       0               0   \n",
      "29             67           ...                       0               1   \n",
      "...           ...           ...                     ...             ...   \n",
      "93649           4           ...                       0               1   \n",
      "93650           4           ...                       0               0   \n",
      "93651           4           ...                       0               0   \n",
      "93652           4           ...                       1               0   \n",
      "93653           4           ...                       0               1   \n",
      "93654           4           ...                       0               1   \n",
      "93655           4           ...                       0               0   \n",
      "93656           4           ...                       1               0   \n",
      "93657           4           ...                       0               0   \n",
      "93658           4           ...                       0               1   \n",
      "93659           4           ...                       0               1   \n",
      "93660           4           ...                       0               0   \n",
      "93661           4           ...                       0               0   \n",
      "93662           4           ...                       0               1   \n",
      "93663           4           ...                       1               1   \n",
      "93664          10           ...                       0               1   \n",
      "93665           4           ...                       1               0   \n",
      "93666           4           ...                       0               1   \n",
      "93667           4           ...                       1               1   \n",
      "93668           4           ...                       0               0   \n",
      "93669           4           ...                       0               1   \n",
      "93670           4           ...                       0               1   \n",
      "93671           4           ...                       0               1   \n",
      "93672           4           ...                       0               1   \n",
      "93673           4           ...                       0               1   \n",
      "93674           4           ...                       0               1   \n",
      "93675           4           ...                       1               1   \n",
      "93676           4           ...                       0               1   \n",
      "93677           4           ...                       0               1   \n",
      "93678           4           ...                       0               0   \n",
      "\n",
      "       enabled_csat  enabled_hours  enabled_slas  enabled_HCcode  \\\n",
      "0                 1              0             0               1   \n",
      "1                 1              0             0               1   \n",
      "2                 1              0             0               1   \n",
      "3                 1              0             0               1   \n",
      "4                 1              0             0               1   \n",
      "5                 1              0             0               1   \n",
      "6                 1              0             0               1   \n",
      "7                 1              0             0               1   \n",
      "8                 1              1             0               1   \n",
      "9                 1              1             0               1   \n",
      "10                1              1             0               1   \n",
      "11                1              0             0               1   \n",
      "12                1              0             0               1   \n",
      "13                1              1             0               0   \n",
      "14                1              1             0               0   \n",
      "15                1              1             0               0   \n",
      "16                1              1             0               0   \n",
      "17                1              1             0               0   \n",
      "18                1              1             0               0   \n",
      "19                1              1             0               0   \n",
      "20                1              1             0               0   \n",
      "21                1              1             0               0   \n",
      "22                1              1             0               0   \n",
      "23                1              1             0               0   \n",
      "24                0              1             0               0   \n",
      "25                0              1             0               0   \n",
      "26                0              1             0               0   \n",
      "27                0              1             0               0   \n",
      "28                0              1             0               0   \n",
      "29                1              1             0               1   \n",
      "...             ...            ...           ...             ...   \n",
      "93649             0              0             0               0   \n",
      "93650             0              0             0               0   \n",
      "93651             0              0             0               0   \n",
      "93652             0              0             0               0   \n",
      "93653             0              0             0               0   \n",
      "93654             0              0             0               0   \n",
      "93655             0              0             0               0   \n",
      "93656             0              0             0               0   \n",
      "93657             0              0             0               0   \n",
      "93658             0              0             0               0   \n",
      "93659             0              0             0               0   \n",
      "93660             0              0             0               0   \n",
      "93661             0              0             0               0   \n",
      "93662             0              0             0               0   \n",
      "93663             0              0             0               0   \n",
      "93664             0              1             0               0   \n",
      "93665             0              0             0               0   \n",
      "93666             0              0             0               0   \n",
      "93667             0              0             0               0   \n",
      "93668             0              0             0               0   \n",
      "93669             0              0             0               0   \n",
      "93670             0              0             0               0   \n",
      "93671             0              0             0               0   \n",
      "93672             1              1             0               0   \n",
      "93673             0              0             0               0   \n",
      "93674             0              0             0               0   \n",
      "93675             0              0             0               0   \n",
      "93676             0              0             0               0   \n",
      "93677             0              0             0               0   \n",
      "93678             1              0             0               0   \n",
      "\n",
      "       enabled_community  num_apps  num_tix_solved  %change_num_tix_solved  \n",
      "0                      0         1             920                    null  \n",
      "1                      1         1            1064                0.156522  \n",
      "2                      1         1             944               -0.112782  \n",
      "3                      1         1             794               -0.158898  \n",
      "4                      1         1             763              -0.0390428  \n",
      "5                      1         1             796               0.0432503  \n",
      "6                      1         2            1502                0.886935  \n",
      "7                      1         2            1518               0.0106525  \n",
      "8                      1         3            2259                0.488142  \n",
      "9                      1         3            2886                0.277556  \n",
      "10                     1         3            3039               0.0530146  \n",
      "11                     0         9          832491                    null  \n",
      "12                     0        10          610830               -0.266262  \n",
      "13                     0         1            2790                    null  \n",
      "14                     1        11           48873                 16.5172  \n",
      "15                     1        12           36792               -0.247192  \n",
      "16                     1        11           45408                0.234181  \n",
      "17                     1        11           30591               -0.326308  \n",
      "18                     1        11           37356                0.221143  \n",
      "19                     1        11           40953               0.0962898  \n",
      "20                     1        11           34617               -0.154714  \n",
      "21                     1        11           30624               -0.115348  \n",
      "22                     1        11           34650                0.131466  \n",
      "23                     1        11           29799                   -0.14  \n",
      "24                     0         0            2539                    null  \n",
      "25                     0         0            2107               -0.170146  \n",
      "26                     0         0            4070                0.931656  \n",
      "27                     0         0            4327                0.063145  \n",
      "28                     1         0            2703               -0.375318  \n",
      "29                     1         1            1416                    null  \n",
      "...                  ...       ...             ...                     ...  \n",
      "93649                  0         0              96                    null  \n",
      "93650                  0         0               0                    null  \n",
      "93651                  0         0               0                    null  \n",
      "93652                  0         0             740                    null  \n",
      "93653                  0         1             258                    null  \n",
      "93654                  1         4             184                    null  \n",
      "93655                  0         0               1                    null  \n",
      "93656                  0         0            1594                    null  \n",
      "93657                  0         0               0                    null  \n",
      "93658                  0         2               0                    null  \n",
      "93659                  1         1              12                    null  \n",
      "93660                  0         0              55                    null  \n",
      "93661                  0         0               3                    null  \n",
      "93662                  1         3             210                    null  \n",
      "93663                  1         1               6                    null  \n",
      "93664                  1         1               8                    null  \n",
      "93665                  0         1              76                    null  \n",
      "93666                  1         1              40                    null  \n",
      "93667                  1         0               7                    null  \n",
      "93668                  1         0               1                    null  \n",
      "93669                  0         1              56                    null  \n",
      "93670                  0         0               2                    null  \n",
      "93671                  1         1               0                    null  \n",
      "93672                  1         0             290                    null  \n",
      "93673                  1         1               2                    null  \n",
      "93674                  1         1               0                    null  \n",
      "93675                  1         1               7                    null  \n",
      "93676                  0         1              12                    null  \n",
      "93677                  1         1               2                    null  \n",
      "93678                  0         7               0                    null  \n",
      "\n",
      "[93679 rows x 26 columns]\n"
     ]
    }
   ],
   "source": [
    "#CREATE MONTH OVER MONTH CHANGE RATIOS FOR ALL CONTINUOUS NUMERIC FEATURES (cont...)\n",
    "continuous_features = ['num_tix_solved']\n",
    "for i in continuous_features:\n",
    "    f = '%change_' + str(i)\n",
    "    df[f] = ''\n",
    "    n = 0\n",
    "    for a in df.account_id.unique(): \n",
    "        b = 0\n",
    "        while b < len(df[df.account_id == a]):\n",
    "            if (b-1 < 0) | (n-1 < 0): \n",
    "                df.loc[n,f] = \"null\" \n",
    "            else: \n",
    "                df.loc[n,f] = (df.loc[n,i] - df.loc[n-1,i])/ df.loc[n-1,i]\n",
    "            b = b + 1\n",
    "            n = n + 1\n",
    "print df"
   ]
  },
  {
   "cell_type": "code",
   "execution_count": 13,
   "metadata": {
    "collapsed": false
   },
   "outputs": [
    {
     "data": {
      "text/plain": [
       "15827"
      ]
     },
     "execution_count": 13,
     "metadata": {},
     "output_type": "execute_result"
    }
   ],
   "source": [
    "len(df.account_id.unique())"
   ]
  },
  {
   "cell_type": "code",
   "execution_count": 14,
   "metadata": {
    "collapsed": false
   },
   "outputs": [],
   "source": [
    "df = df.dropna()"
   ]
  },
  {
   "cell_type": "code",
   "execution_count": 15,
   "metadata": {
    "collapsed": false
   },
   "outputs": [],
   "source": [
    "## REMOVE ALL ENTERPRISE PLANS (since it's the highest plan, no upgrading)\n",
    "df = df[(df.pre_upgrade_plan != 0) & (df.pre_upgrade_plan != 'Enterprise Elite') & (df.pre_upgrade_plan != 'Enterprise') & (df.pre_upgrade_plan != 'Enterprise (Legacy)')]"
   ]
  },
  {
   "cell_type": "code",
   "execution_count": 16,
   "metadata": {
    "collapsed": true
   },
   "outputs": [],
   "source": [
    "#CREATE DUMMIES FOR THE PRE-UPGRADE PLAN AND DROP THE ORIGINAL COLUMN\n",
    "pre_upgrade_plan_df = pd.get_dummies(df.pre_upgrade_plan, prefix = None)\n",
    "df = pd.concat([df, pre_upgrade_plan_df], axis = 1)\n",
    "df = df.drop('pre_upgrade_plan', axis = 1)"
   ]
  },
  {
   "cell_type": "code",
   "execution_count": 17,
   "metadata": {
    "collapsed": false
   },
   "outputs": [
    {
     "data": {
      "text/plain": [
       "0    85228\n",
       "1     2517\n",
       "Name: upgraded_boolean, dtype: int64"
      ]
     },
     "execution_count": 17,
     "metadata": {},
     "output_type": "execute_result"
    }
   ],
   "source": [
    "df.upgraded_boolean.value_counts()"
   ]
  },
  {
   "cell_type": "code",
   "execution_count": 18,
   "metadata": {
    "collapsed": false
   },
   "outputs": [
    {
     "data": {
      "text/plain": [
       "0.029532547988923828"
      ]
     },
     "execution_count": 18,
     "metadata": {},
     "output_type": "execute_result"
    }
   ],
   "source": [
    "2517/85228."
   ]
  },
  {
   "cell_type": "code",
   "execution_count": 201,
   "metadata": {
    "collapsed": false
   },
   "outputs": [
    {
     "data": {
      "text/plain": [
       "15012"
      ]
     },
     "execution_count": 201,
     "metadata": {},
     "output_type": "execute_result"
    }
   ],
   "source": [
    "len(df.account_id.unique())"
   ]
  },
  {
   "cell_type": "code",
   "execution_count": 19,
   "metadata": {
    "collapsed": false
   },
   "outputs": [],
   "source": [
    "c = df.upgraded_boolean\n",
    "X = df[df.drop('upgraded_boolean', axis=1).columns.tolist()]"
   ]
  },
  {
   "cell_type": "code",
   "execution_count": 203,
   "metadata": {
    "collapsed": true
   },
   "outputs": [],
   "source": [
    "#NEED TO TRY TO SPLIT THE TRAIN/TEST DATA AT THE ACCOUNT LEVEL... dont want accounts getting split."
   ]
  },
  {
   "cell_type": "code",
   "execution_count": 58,
   "metadata": {
    "collapsed": false
   },
   "outputs": [],
   "source": [
    "train_X, test_X, train_c, test_c = sklearn.model_selection.train_test_split(X, c, train_size = .5)"
   ]
  },
  {
   "cell_type": "code",
   "execution_count": 59,
   "metadata": {
    "collapsed": false
   },
   "outputs": [
    {
     "name": "stdout",
     "output_type": "stream",
     "text": [
      "[[ -8.90994262e-07   5.00952502e-06  -1.37504968e-01  -6.19645060e-04\n",
      "   -2.47390009e-02  -9.65210591e-03  -3.88189680e-07   6.17603134e-03\n",
      "   -5.75549596e-03   7.33100197e-07   2.68883258e-02   1.06033414e-01\n",
      "   -2.84437098e-02  -1.39955555e-01   1.73975048e-01   1.71974692e-01\n",
      "   -1.49390590e-01   6.82470016e-02  -5.39724541e-03   4.21041994e-02\n",
      "    8.71691415e-02   6.67070278e-02   1.98789222e-06   6.25653933e-01\n",
      "   -7.96043218e-02  -4.51875698e-01  -1.20755619e-02  -1.08318996e-01\n",
      "    2.62083838e-02]]\n",
      "[ -1.22610962e-05]\n"
     ]
    }
   ],
   "source": [
    "model = linear_model.LogisticRegression(class_weight='balanced').fit(train_X, train_c)\n",
    "\n",
    "print model.coef_\n",
    "print model.intercept_"
   ]
  },
  {
   "cell_type": "code",
   "execution_count": 60,
   "metadata": {
    "collapsed": false
   },
   "outputs": [
    {
     "data": {
      "text/plain": [
       "0.62019055433989789"
      ]
     },
     "execution_count": 60,
     "metadata": {},
     "output_type": "execute_result"
    }
   ],
   "source": [
    "model.score(train_X, train_c)"
   ]
  },
  {
   "cell_type": "markdown",
   "metadata": {},
   "source": [
    "## calculate the log odds"
   ]
  },
  {
   "cell_type": "code",
   "execution_count": 61,
   "metadata": {
    "collapsed": true
   },
   "outputs": [],
   "source": [
    "logit_hat_Upgrade = model.intercept_ + (train_X * model.coef_[0]).sum(axis = 1)"
   ]
  },
  {
   "cell_type": "code",
   "execution_count": 62,
   "metadata": {
    "collapsed": false
   },
   "outputs": [
    {
     "data": {
      "text/plain": [
       "<matplotlib.axes._subplots.AxesSubplot at 0x112600fd0>"
      ]
     },
     "execution_count": 62,
     "metadata": {},
     "output_type": "execute_result"
    },
    {
     "data": {
      "image/png": "[encoded data removed]",
      "text/plain": [
       "<matplotlib.figure.Figure at 0x10f8d5fd0>"
      ]
     },
     "metadata": {},
     "output_type": "display_data"
    }
   ],
   "source": [
    "logit_hat_Upgrade.plot()"
   ]
  },
  {
   "cell_type": "code",
   "execution_count": 63,
   "metadata": {
    "collapsed": false
   },
   "outputs": [
    {
     "data": {
      "text/plain": [
       "27209"
      ]
     },
     "execution_count": 63,
     "metadata": {},
     "output_type": "execute_result"
    }
   ],
   "source": [
    "((logit_hat_Upgrade >= 0) == (train_c == 1)).sum()"
   ]
  },
  {
   "cell_type": "code",
   "execution_count": 64,
   "metadata": {
    "collapsed": false
   },
   "outputs": [
    {
     "data": {
      "text/plain": [
       "0.62019055433989789"
      ]
     },
     "execution_count": 64,
     "metadata": {},
     "output_type": "execute_result"
    }
   ],
   "source": [
    "((logit_hat_Upgrade >= 0) == (train_c == 1)).mean()"
   ]
  },
  {
   "cell_type": "markdown",
   "metadata": {},
   "source": [
    "## convert log odds to odds ratios by taking the exponent"
   ]
  },
  {
   "cell_type": "code",
   "execution_count": 65,
   "metadata": {
    "collapsed": true
   },
   "outputs": [],
   "source": [
    "odds_hat_Upgrade = np.exp(logit_hat_Upgrade)"
   ]
  },
  {
   "cell_type": "code",
   "execution_count": 66,
   "metadata": {
    "collapsed": false
   },
   "outputs": [
    {
     "data": {
      "text/plain": [
       "<matplotlib.axes._subplots.AxesSubplot at 0x1128d73d0>"
      ]
     },
     "execution_count": 66,
     "metadata": {},
     "output_type": "execute_result"
    },
    {
     "data": {
      "image/png": "[encoded data removed]",
      "text/plain": [
       "<matplotlib.figure.Figure at 0x1125f5210>"
      ]
     },
     "metadata": {},
     "output_type": "display_data"
    }
   ],
   "source": [
    "odds_hat_Upgrade.plot()"
   ]
  },
  {
   "cell_type": "code",
   "execution_count": 67,
   "metadata": {
    "collapsed": false
   },
   "outputs": [
    {
     "data": {
      "text/plain": [
       "27209"
      ]
     },
     "execution_count": 67,
     "metadata": {},
     "output_type": "execute_result"
    }
   ],
   "source": [
    "((odds_hat_Upgrade >= 1) == (train_c == 1)).sum()"
   ]
  },
  {
   "cell_type": "code",
   "execution_count": 68,
   "metadata": {
    "collapsed": false
   },
   "outputs": [
    {
     "data": {
      "text/plain": [
       "0.62019055433989789"
      ]
     },
     "execution_count": 68,
     "metadata": {},
     "output_type": "execute_result"
    }
   ],
   "source": [
    "((odds_hat_Upgrade >= 1) == (train_c == 1)).mean()"
   ]
  },
  {
   "cell_type": "markdown",
   "metadata": {},
   "source": [
    "## convert odds ratio to probability scores"
   ]
  },
  {
   "cell_type": "code",
   "execution_count": 69,
   "metadata": {
    "collapsed": true
   },
   "outputs": [],
   "source": [
    "p_hat_Upgrade = odds_hat_Upgrade / (1 + odds_hat_Upgrade)"
   ]
  },
  {
   "cell_type": "code",
   "execution_count": 70,
   "metadata": {
    "collapsed": false
   },
   "outputs": [
    {
     "data": {
      "text/plain": [
       "<matplotlib.axes._subplots.AxesSubplot at 0x112a0a290>"
      ]
     },
     "execution_count": 70,
     "metadata": {},
     "output_type": "execute_result"
    },
    {
     "data": {
      "image/png": "[encoded data removed]",
      "text/plain": [
       "<matplotlib.figure.Figure at 0x1136c4f90>"
      ]
     },
     "metadata": {},
     "output_type": "display_data"
    }
   ],
   "source": [
    "p_hat_Upgrade.plot()"
   ]
  },
  {
   "cell_type": "code",
   "execution_count": 71,
   "metadata": {
    "collapsed": false
   },
   "outputs": [
    {
     "data": {
      "text/plain": [
       "27209"
      ]
     },
     "execution_count": 71,
     "metadata": {},
     "output_type": "execute_result"
    }
   ],
   "source": [
    "((p_hat_Upgrade >= .5) == (train_c == 1)).sum()"
   ]
  },
  {
   "cell_type": "code",
   "execution_count": 72,
   "metadata": {
    "collapsed": false
   },
   "outputs": [
    {
     "data": {
      "text/plain": [
       "0.62019055433989789"
      ]
     },
     "execution_count": 72,
     "metadata": {},
     "output_type": "execute_result"
    }
   ],
   "source": [
    "((p_hat_Upgrade >= .5) == (train_c == 1)).mean()"
   ]
  },
  {
   "cell_type": "code",
   "execution_count": 73,
   "metadata": {
    "collapsed": true
   },
   "outputs": [],
   "source": [
    "c_hat_Upgrade = p_hat_Upgrade.round()"
   ]
  },
  {
   "cell_type": "code",
   "execution_count": 74,
   "metadata": {
    "collapsed": false
   },
   "outputs": [
    {
     "data": {
      "text/html": [
       "<div>\n",
       "<table border=\"1\" class=\"dataframe\">\n",
       "  <thead>\n",
       "    <tr style=\"text-align: right;\">\n",
       "      <th>Actual</th>\n",
       "      <th>0</th>\n",
       "      <th>1</th>\n",
       "    </tr>\n",
       "    <tr>\n",
       "      <th>Predicted</th>\n",
       "      <th></th>\n",
       "      <th></th>\n",
       "    </tr>\n",
       "  </thead>\n",
       "  <tbody>\n",
       "    <tr>\n",
       "      <th>0</th>\n",
       "      <td>26393</td>\n",
       "      <td>404</td>\n",
       "    </tr>\n",
       "    <tr>\n",
       "      <th>1</th>\n",
       "      <td>16259</td>\n",
       "      <td>816</td>\n",
       "    </tr>\n",
       "  </tbody>\n",
       "</table>\n",
       "</div>"
      ],
      "text/plain": [
       "Actual         0    1\n",
       "Predicted            \n",
       "0          26393  404\n",
       "1          16259  816"
      ]
     },
     "execution_count": 74,
     "metadata": {},
     "output_type": "execute_result"
    }
   ],
   "source": [
    "pd.crosstab(c_hat_Upgrade,\n",
    "    c,\n",
    "    rownames = ['Predicted'],\n",
    "    colnames = ['Actual'])\n",
    "\n",
    "#how does this look when aggregated at the account level?\n",
    "#grab all the account ids from 1:1 and see how many times they appear in 0:1 "
   ]
  },
  {
   "cell_type": "code",
   "execution_count": 202,
   "metadata": {
    "collapsed": false
   },
   "outputs": [
    {
     "data": {
      "text/plain": [
       "43872"
      ]
     },
     "execution_count": 202,
     "metadata": {},
     "output_type": "execute_result"
    }
   ],
   "source": []
  },
  {
   "cell_type": "code",
   "execution_count": 188,
   "metadata": {
    "collapsed": false
   },
   "outputs": [],
   "source": [
    "c_hat_Upgrade_df = c_hat_Upgrade.to_frame('predicted_class')"
   ]
  },
  {
   "cell_type": "code",
   "execution_count": 189,
   "metadata": {
    "collapsed": true
   },
   "outputs": [],
   "source": [
    "new_df = pd.concat([train_X, train_c, c_hat_Upgrade_df], axis=1)"
   ]
  },
  {
   "cell_type": "code",
   "execution_count": 190,
   "metadata": {
    "collapsed": false
   },
   "outputs": [
    {
     "data": {
      "text/html": [
       "<div>\n",
       "<table border=\"1\" class=\"dataframe\">\n",
       "  <thead>\n",
       "    <tr style=\"text-align: right;\">\n",
       "      <th></th>\n",
       "      <th>account_id</th>\n",
       "      <th>year_month_run</th>\n",
       "      <th>age_in_months</th>\n",
       "      <th>num_agents</th>\n",
       "      <th>num_trig</th>\n",
       "      <th>num_automations</th>\n",
       "      <th>num_tags</th>\n",
       "      <th>num_macros</th>\n",
       "      <th>num_groups</th>\n",
       "      <th>num_orgs</th>\n",
       "      <th>...</th>\n",
       "      <th>num_apps</th>\n",
       "      <th>num_tix_solved</th>\n",
       "      <th>Essential</th>\n",
       "      <th>Plus</th>\n",
       "      <th>Professional</th>\n",
       "      <th>Regular</th>\n",
       "      <th>Starter</th>\n",
       "      <th>Team</th>\n",
       "      <th>upgraded_boolean</th>\n",
       "      <th>predicted_class</th>\n",
       "    </tr>\n",
       "  </thead>\n",
       "  <tbody>\n",
       "    <tr>\n",
       "      <th>60650</th>\n",
       "      <td>952704</td>\n",
       "      <td>201606</td>\n",
       "      <td>2</td>\n",
       "      <td>2</td>\n",
       "      <td>3</td>\n",
       "      <td>1</td>\n",
       "      <td>7</td>\n",
       "      <td>4</td>\n",
       "      <td>2</td>\n",
       "      <td>4</td>\n",
       "      <td>...</td>\n",
       "      <td>0</td>\n",
       "      <td>17</td>\n",
       "      <td>0</td>\n",
       "      <td>0</td>\n",
       "      <td>0</td>\n",
       "      <td>0</td>\n",
       "      <td>0</td>\n",
       "      <td>1</td>\n",
       "      <td>0</td>\n",
       "      <td>1</td>\n",
       "    </tr>\n",
       "    <tr>\n",
       "      <th>35258</th>\n",
       "      <td>882396</td>\n",
       "      <td>201604</td>\n",
       "      <td>3</td>\n",
       "      <td>1</td>\n",
       "      <td>5</td>\n",
       "      <td>1</td>\n",
       "      <td>2</td>\n",
       "      <td>4</td>\n",
       "      <td>1</td>\n",
       "      <td>1</td>\n",
       "      <td>...</td>\n",
       "      <td>0</td>\n",
       "      <td>1</td>\n",
       "      <td>1</td>\n",
       "      <td>0</td>\n",
       "      <td>0</td>\n",
       "      <td>0</td>\n",
       "      <td>0</td>\n",
       "      <td>0</td>\n",
       "      <td>0</td>\n",
       "      <td>1</td>\n",
       "    </tr>\n",
       "    <tr>\n",
       "      <th>41396</th>\n",
       "      <td>899966</td>\n",
       "      <td>201611</td>\n",
       "      <td>10</td>\n",
       "      <td>6</td>\n",
       "      <td>9</td>\n",
       "      <td>1</td>\n",
       "      <td>11</td>\n",
       "      <td>4</td>\n",
       "      <td>3</td>\n",
       "      <td>1</td>\n",
       "      <td>...</td>\n",
       "      <td>0</td>\n",
       "      <td>204</td>\n",
       "      <td>0</td>\n",
       "      <td>0</td>\n",
       "      <td>0</td>\n",
       "      <td>0</td>\n",
       "      <td>0</td>\n",
       "      <td>1</td>\n",
       "      <td>0</td>\n",
       "      <td>0</td>\n",
       "    </tr>\n",
       "    <tr>\n",
       "      <th>40442</th>\n",
       "      <td>898211</td>\n",
       "      <td>201603</td>\n",
       "      <td>1</td>\n",
       "      <td>1</td>\n",
       "      <td>6</td>\n",
       "      <td>1</td>\n",
       "      <td>401</td>\n",
       "      <td>19</td>\n",
       "      <td>1</td>\n",
       "      <td>1</td>\n",
       "      <td>...</td>\n",
       "      <td>0</td>\n",
       "      <td>1950</td>\n",
       "      <td>1</td>\n",
       "      <td>0</td>\n",
       "      <td>0</td>\n",
       "      <td>0</td>\n",
       "      <td>0</td>\n",
       "      <td>0</td>\n",
       "      <td>0</td>\n",
       "      <td>1</td>\n",
       "    </tr>\n",
       "    <tr>\n",
       "      <th>63997</th>\n",
       "      <td>962759</td>\n",
       "      <td>201610</td>\n",
       "      <td>6</td>\n",
       "      <td>1</td>\n",
       "      <td>6</td>\n",
       "      <td>1</td>\n",
       "      <td>0</td>\n",
       "      <td>31</td>\n",
       "      <td>1</td>\n",
       "      <td>2</td>\n",
       "      <td>...</td>\n",
       "      <td>1</td>\n",
       "      <td>0</td>\n",
       "      <td>1</td>\n",
       "      <td>0</td>\n",
       "      <td>0</td>\n",
       "      <td>0</td>\n",
       "      <td>0</td>\n",
       "      <td>0</td>\n",
       "      <td>0</td>\n",
       "      <td>1</td>\n",
       "    </tr>\n",
       "  </tbody>\n",
       "</table>\n",
       "<p>5 rows × 31 columns</p>\n",
       "</div>"
      ],
      "text/plain": [
       "       account_id  year_month_run  age_in_months  num_agents  num_trig  \\\n",
       "60650      952704          201606              2           2         3   \n",
       "35258      882396          201604              3           1         5   \n",
       "41396      899966          201611             10           6         9   \n",
       "40442      898211          201603              1           1         6   \n",
       "63997      962759          201610              6           1         6   \n",
       "\n",
       "       num_automations  num_tags  num_macros  num_groups  num_orgs  \\\n",
       "60650                1         7           4           2         4   \n",
       "35258                1         2           4           1         1   \n",
       "41396                1        11           4           3         1   \n",
       "40442                1       401          19           1         1   \n",
       "63997                1         0          31           1         2   \n",
       "\n",
       "            ...         num_apps  num_tix_solved  Essential  Plus  \\\n",
       "60650       ...                0              17          0     0   \n",
       "35258       ...                0               1          1     0   \n",
       "41396       ...                0             204          0     0   \n",
       "40442       ...                0            1950          1     0   \n",
       "63997       ...                1               0          1     0   \n",
       "\n",
       "       Professional  Regular  Starter  Team  upgraded_boolean  predicted_class  \n",
       "60650             0        0        0     1                 0                1  \n",
       "35258             0        0        0     0                 0                1  \n",
       "41396             0        0        0     1                 0                0  \n",
       "40442             0        0        0     0                 0                1  \n",
       "63997             0        0        0     0                 0                1  \n",
       "\n",
       "[5 rows x 31 columns]"
      ]
     },
     "execution_count": 190,
     "metadata": {},
     "output_type": "execute_result"
    }
   ],
   "source": [
    "new_df.head()"
   ]
  },
  {
   "cell_type": "code",
   "execution_count": 192,
   "metadata": {
    "collapsed": false
   },
   "outputs": [],
   "source": [
    "predict_1_actual_1 = new_df[(new_df.upgraded_boolean == 1) & (new_df.predicted_class == 1)]"
   ]
  },
  {
   "cell_type": "code",
   "execution_count": 194,
   "metadata": {
    "collapsed": true
   },
   "outputs": [],
   "source": [
    "predict_1_actual_0 = new_df[(new_df.upgraded_boolean == 0) & (new_df.predicted_class == 1)]"
   ]
  },
  {
   "cell_type": "code",
   "execution_count": 197,
   "metadata": {
    "collapsed": false
   },
   "outputs": [
    {
     "name": "stdout",
     "output_type": "stream",
     "text": [
      "p1_a1 accounts count 663\n",
      "p1_a0 accounts count 7736\n"
     ]
    }
   ],
   "source": [
    "p1_a1 = predict_1_actual_1.account_id.unique()\n",
    "print \"p1_a1 accounts count\", len(p1_a1)\n",
    "p1_a0 = predict_1_actual_0.account_id.unique()\n",
    "print \"p1_a0 accounts count\", len(p1_a0)"
   ]
  },
  {
   "cell_type": "code",
   "execution_count": 199,
   "metadata": {
    "collapsed": false
   },
   "outputs": [
    {
     "data": {
      "text/plain": [
       "238"
      ]
     },
     "execution_count": 199,
     "metadata": {},
     "output_type": "execute_result"
    }
   ],
   "source": [
    "len(set(p1_a1) & set(p1_a0))"
   ]
  },
  {
   "cell_type": "code",
   "execution_count": 143,
   "metadata": {
    "collapsed": false
   },
   "outputs": [],
   "source": [
    "max_yrMth = new_df.groupby(['account_id'], sort=False)['year_month_run'].max()"
   ]
  },
  {
   "cell_type": "code",
   "execution_count": 163,
   "metadata": {
    "collapsed": false
   },
   "outputs": [],
   "source": [
    "yr = max_yrMth.to_frame()"
   ]
  },
  {
   "cell_type": "code",
   "execution_count": 169,
   "metadata": {
    "collapsed": false
   },
   "outputs": [],
   "source": [
    "yr = yr.reset_index()"
   ]
  },
  {
   "cell_type": "code",
   "execution_count": 170,
   "metadata": {
    "collapsed": true
   },
   "outputs": [],
   "source": [
    "new_df.to_csv(\"new_df.csv\")"
   ]
  },
  {
   "cell_type": "code",
   "execution_count": null,
   "metadata": {
    "collapsed": true
   },
   "outputs": [],
   "source": []
  }
 ],
 "metadata": {
  "kernelspec": {
   "display_name": "Python 2",
   "language": "python",
   "name": "python2"
  },
  "language_info": {
   "codemirror_mode": {
    "name": "ipython",
    "version": 2
   },
   "file_extension": ".py",
   "mimetype": "text/x-python",
   "name": "python",
   "nbconvert_exporter": "python",
   "pygments_lexer": "ipython2",
   "version": "2.7.13"
  }
 },
 "nbformat": 4,
 "nbformat_minor": 0
}
