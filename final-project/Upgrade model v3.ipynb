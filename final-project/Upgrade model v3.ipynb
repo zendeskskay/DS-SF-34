{
 "cells": [
  {
   "cell_type": "code",
   "execution_count": 2,
   "metadata": {
    "collapsed": false
   },
   "outputs": [
    {
     "name": "stderr",
     "output_type": "stream",
     "text": [
      "/Users/skay/anaconda/lib/python2.7/site-packages/sklearn/cross_validation.py:43: DeprecationWarning: This module was deprecated in version 0.18 in favor of the model_selection module into which all the refactored classes and functions are moved. Also note that the interface of the new CV iterators are different from that of this module. This module will be removed in 0.20.\n",
      "  \"This module will be removed in 0.20.\", DeprecationWarning)\n",
      "/Users/skay/anaconda/lib/python2.7/site-packages/sklearn/grid_search.py:43: DeprecationWarning: This module was deprecated in version 0.18 in favor of the model_selection module into which all the refactored classes and functions are moved. This module will be removed in 0.20.\n",
      "  DeprecationWarning)\n"
     ]
    }
   ],
   "source": [
    "import pandas as pd\n",
    "import numpy as np\n",
    "import sklearn\n",
    "\n",
    "from sklearn import preprocessing, linear_model, metrics, model_selection\n",
    "from sklearn.model_selection import train_test_split\n",
    "from sklearn.grid_search import GridSearchCV\n",
    "\n",
    "import matplotlib.pyplot as plt\n",
    "%matplotlib inline"
   ]
  },
  {
   "cell_type": "code",
   "execution_count": 4,
   "metadata": {
    "collapsed": false
   },
   "outputs": [],
   "source": [
    "upgraded = pd.read_csv('upgraded_months.csv')\n",
    "not_upgraded = pd.read_csv('not_upgraded_months.csv')\n",
    "df = pd.concat([upgraded,not_upgraded], axis=0, join='outer')"
   ]
  },
  {
   "cell_type": "code",
   "execution_count": 5,
   "metadata": {
    "collapsed": false
   },
   "outputs": [
    {
     "data": {
      "text/plain": [
       "account_id                 0\n",
       "year_month_run             0\n",
       "year_month_won             0\n",
       "year_month_upgraded    88499\n",
       "upgraded_boolean           0\n",
       "age_in_months              0\n",
       "pre_upgrade_plan           0\n",
       "post_upgrade_plan      88499\n",
       "upgrade_levels             0\n",
       "num_agents                 0\n",
       "mrr_delta                 60\n",
       "num_trig                   3\n",
       "num_automations            3\n",
       "num_tags                   3\n",
       "num_macros                 3\n",
       "num_groups                56\n",
       "num_orgs                  56\n",
       "num_fields                56\n",
       "enabled_HC                 0\n",
       "enabled_redaction          0\n",
       "enabled_insights       77945\n",
       "enabled_talk               0\n",
       "enabled_widget             0\n",
       "enabled_csat               0\n",
       "enabled_hours              0\n",
       "enabled_slas               0\n",
       "enabled_HCcode         34189\n",
       "enabled_community      38582\n",
       "num_apps                   0\n",
       "num_tix_solved         12051\n",
       "dtype: int64"
      ]
     },
     "execution_count": 5,
     "metadata": {},
     "output_type": "execute_result"
    }
   ],
   "source": [
    "df.isnull().sum()"
   ]
  },
  {
   "cell_type": "code",
   "execution_count": 6,
   "metadata": {
    "collapsed": true
   },
   "outputs": [],
   "source": [
    "df = df.fillna(0)"
   ]
  },
  {
   "cell_type": "code",
   "execution_count": 7,
   "metadata": {
    "collapsed": false
   },
   "outputs": [
    {
     "name": "stdout",
     "output_type": "stream",
     "text": [
      "(5180, 30)\n",
      "(88499, 30)\n",
      "(93679, 30)\n"
     ]
    }
   ],
   "source": [
    "print upgraded.shape\n",
    "print not_upgraded.shape\n",
    "print df.shape"
   ]
  },
  {
   "cell_type": "code",
   "execution_count": 8,
   "metadata": {
    "collapsed": false
   },
   "outputs": [
    {
     "name": "stdout",
     "output_type": "stream",
     "text": [
      "Index([u'account_id', u'year_month_run', u'year_month_won',\n",
      "       u'year_month_upgraded', u'upgraded_boolean', u'age_in_months',\n",
      "       u'pre_upgrade_plan', u'post_upgrade_plan', u'upgrade_levels',\n",
      "       u'num_agents', u'mrr_delta', u'num_trig', u'num_automations',\n",
      "       u'num_tags', u'num_macros', u'num_groups', u'num_orgs', u'num_fields',\n",
      "       u'enabled_HC', u'enabled_redaction', u'enabled_insights',\n",
      "       u'enabled_talk', u'enabled_widget', u'enabled_csat', u'enabled_hours',\n",
      "       u'enabled_slas', u'enabled_HCcode', u'enabled_community', u'num_apps',\n",
      "       u'num_tix_solved'],\n",
      "      dtype='object')\n"
     ]
    }
   ],
   "source": [
    "print df.columns "
   ]
  },
  {
   "cell_type": "code",
   "execution_count": 9,
   "metadata": {
    "collapsed": false
   },
   "outputs": [],
   "source": [
    "df =  df.sort_values(by=['account_id', 'year_month_run'], axis = 0, ascending=[True, True])\n",
    "df = df.reset_index(drop = True)"
   ]
  },
  {
   "cell_type": "code",
   "execution_count": 10,
   "metadata": {
    "collapsed": false
   },
   "outputs": [],
   "source": [
    "df = df.drop(['year_month_won','year_month_upgraded','post_upgrade_plan','upgrade_levels','mrr_delta'], axis = 1)"
   ]
  },
  {
   "cell_type": "code",
   "execution_count": 11,
   "metadata": {
    "collapsed": false
   },
   "outputs": [
    {
     "data": {
      "text/plain": [
       "['num_agents',\n",
       " 'num_trig',\n",
       " 'num_automations',\n",
       " 'num_tags',\n",
       " 'num_macros',\n",
       " 'num_groups',\n",
       " 'num_orgs',\n",
       " 'num_fields',\n",
       " 'num_apps',\n",
       " 'num_tix_solved']"
      ]
     },
     "execution_count": 11,
     "metadata": {},
     "output_type": "execute_result"
    }
   ],
   "source": [
    "#CREATE MONTH OVER MONTH CHANGE RATIOS FOR ALL CONTINUOUS NUMERIC FEATURES\n",
    "features = df.columns.tolist()\n",
    "f1 = pd.DataFrame(features) \n",
    "continuous_features = f1[f1[0].str.contains(\"num_\")][0].tolist()\n",
    "continuous_features"
   ]
  },
  {
   "cell_type": "code",
   "execution_count": null,
   "metadata": {
    "collapsed": false
   },
   "outputs": [],
   "source": [
    "#CREATE MONTH OVER MONTH CHANGE RATIOS FOR ALL CONTINUOUS NUMERIC FEATURES (cont...)\n",
    "continuous_features = ['num_tix_solved']\n",
    "for i in continuous_features:\n",
    "    f = '%change_' + str(i)\n",
    "    df[f] = ''\n",
    "    n = 0\n",
    "    for a in df.account_id.unique(): \n",
    "        b = 0\n",
    "        while b < len(df[df.account_id == a]):\n",
    "            if (b-1 < 0) | (n-1 < 0): \n",
    "                df.loc[n,f] = \"null\" \n",
    "            else: \n",
    "                df.loc[n,f] = (df.loc[n,i] - df.loc[n-1,i])/ df.loc[n-1,i]\n",
    "            b = b + 1\n",
    "            n = n + 1\n",
    "print df"
   ]
  },
  {
   "cell_type": "code",
   "execution_count": 23,
   "metadata": {
    "collapsed": false
   },
   "outputs": [
    {
     "data": {
      "text/plain": [
       "15827"
      ]
     },
     "execution_count": 23,
     "metadata": {},
     "output_type": "execute_result"
    }
   ],
   "source": [
    "len(df.account_id.unique())"
   ]
  },
  {
   "cell_type": "code",
   "execution_count": 24,
   "metadata": {
    "collapsed": true
   },
   "outputs": [],
   "source": [
    "## REMOVE ALL ENTERPRISE PLANS (since it's the highest plan, no upgrading)\n",
    "df = df[(df.pre_upgrade_plan != 0) & (df.pre_upgrade_plan != 'Enterprise Elite') & (df.pre_upgrade_plan != 'Enterprise') & (df.pre_upgrade_plan != 'Enterprise (Legacy)')]"
   ]
  },
  {
   "cell_type": "code",
   "execution_count": 25,
   "metadata": {
    "collapsed": true
   },
   "outputs": [],
   "source": [
    "#CREATE DUMMIES FOR THE PRE-UPGRADE PLAN AND DROP THE ORIGINAL COLUMN\n",
    "pre_upgrade_plan_df = pd.get_dummies(df.pre_upgrade_plan, prefix = None)\n",
    "df = pd.concat([df, pre_upgrade_plan_df], axis = 1)\n",
    "df = df.drop('pre_upgrade_plan', axis = 1)"
   ]
  },
  {
   "cell_type": "code",
   "execution_count": 26,
   "metadata": {
    "collapsed": false
   },
   "outputs": [
    {
     "data": {
      "text/plain": [
       "0    85228\n",
       "1     2517\n",
       "Name: upgraded_boolean, dtype: int64"
      ]
     },
     "execution_count": 26,
     "metadata": {},
     "output_type": "execute_result"
    }
   ],
   "source": [
    "df.upgraded_boolean.value_counts()"
   ]
  },
  {
   "cell_type": "code",
   "execution_count": 27,
   "metadata": {
    "collapsed": false
   },
   "outputs": [
    {
     "data": {
      "text/plain": [
       "0.029532547988923828"
      ]
     },
     "execution_count": 27,
     "metadata": {},
     "output_type": "execute_result"
    }
   ],
   "source": [
    "2517/85228."
   ]
  },
  {
   "cell_type": "code",
   "execution_count": 28,
   "metadata": {
    "collapsed": false
   },
   "outputs": [],
   "source": [
    "c = df.upgraded_boolean\n",
    "X = df[df.drop('upgraded_boolean', axis=1).columns.tolist()]"
   ]
  },
  {
   "cell_type": "code",
   "execution_count": 31,
   "metadata": {
    "collapsed": false
   },
   "outputs": [
    {
     "ename": "AttributeError",
     "evalue": "'module' object has no attribute 'model_selection'",
     "output_type": "error",
     "traceback": [
      "\u001b[1;31m---------------------------------------------------------------------------\u001b[0m",
      "\u001b[1;31mAttributeError\u001b[0m                            Traceback (most recent call last)",
      "\u001b[1;32m<ipython-input-31-88c0e57fe831>\u001b[0m in \u001b[0;36m<module>\u001b[1;34m()\u001b[0m\n\u001b[1;32m----> 1\u001b[1;33m \u001b[0mtrain_X\u001b[0m\u001b[1;33m,\u001b[0m \u001b[0mtest_X\u001b[0m\u001b[1;33m,\u001b[0m \u001b[0mtrain_c\u001b[0m\u001b[1;33m,\u001b[0m \u001b[0mtest_c\u001b[0m \u001b[1;33m=\u001b[0m \u001b[0msklearn\u001b[0m\u001b[1;33m.\u001b[0m\u001b[0mmodel_selection\u001b[0m\u001b[1;33m.\u001b[0m\u001b[0mtrain_test_split\u001b[0m\u001b[1;33m(\u001b[0m\u001b[0mX\u001b[0m\u001b[1;33m,\u001b[0m \u001b[0mc\u001b[0m\u001b[1;33m,\u001b[0m \u001b[0mtrain_size\u001b[0m \u001b[1;33m=\u001b[0m \u001b[1;36m.25\u001b[0m\u001b[1;33m)\u001b[0m\u001b[1;33m\u001b[0m\u001b[0m\n\u001b[0m",
      "\u001b[1;31mAttributeError\u001b[0m: 'module' object has no attribute 'model_selection'"
     ]
    }
   ],
   "source": [
    "train_X, test_X, train_c, test_c = sklearn.model_selection.train_test_split(X, c, train_size = .25)"
   ]
  },
  {
   "cell_type": "code",
   "execution_count": 57,
   "metadata": {
    "collapsed": false
   },
   "outputs": [
    {
     "name": "stdout",
     "output_type": "stream",
     "text": [
      "[[ -1.35628474e-01   1.83318219e-03  -3.13812259e-02  -1.68446082e-02\n",
      "   -4.11476834e-07   5.68864204e-03   7.43512242e-03  -5.04134219e-06\n",
      "    3.04349051e-02   8.33276918e-02  -1.96554575e-02  -1.23192275e-01\n",
      "    1.92664970e-01   1.78390962e-01  -1.18049918e-01   5.08679967e-02\n",
      "   -6.15678971e-03   3.69863817e-02   1.13930516e-01   5.41999589e-02\n",
      "    1.63862278e-06   6.37260823e-01  -6.21557885e-02  -3.79168864e-01\n",
      "   -2.00486851e-03  -7.87395137e-02   6.36544714e-02]]\n",
      "[ 0.17884626]\n"
     ]
    }
   ],
   "source": [
    "model = linear_model.LogisticRegression(class_weight='balanced').fit(X, c)\n",
    "\n",
    "print model.coef_\n",
    "print model.intercept_"
   ]
  },
  {
   "cell_type": "code",
   "execution_count": 58,
   "metadata": {
    "collapsed": false
   },
   "outputs": [
    {
     "data": {
      "text/plain": [
       "0.60886660208558896"
      ]
     },
     "execution_count": 58,
     "metadata": {},
     "output_type": "execute_result"
    }
   ],
   "source": [
    "model.score(X, c)"
   ]
  },
  {
   "cell_type": "markdown",
   "metadata": {},
   "source": [
    "##calculate the log odds"
   ]
  },
  {
   "cell_type": "code",
   "execution_count": 59,
   "metadata": {
    "collapsed": true
   },
   "outputs": [],
   "source": [
    "logit_hat_Upgrade = model.intercept_ + (X * model.coef_[0]).sum(axis = 1)"
   ]
  },
  {
   "cell_type": "code",
   "execution_count": 60,
   "metadata": {
    "collapsed": false
   },
   "outputs": [
    {
     "data": {
      "text/plain": [
       "<matplotlib.axes._subplots.AxesSubplot at 0x7f7308f504d0>"
      ]
     },
     "execution_count": 60,
     "metadata": {},
     "output_type": "execute_result"
    },
    {
     "data": {
      "image/png": "[encoded data removed]",
      "text/plain": [
       "<matplotlib.figure.Figure at 0x7f7308f21c10>"
      ]
     },
     "metadata": {},
     "output_type": "display_data"
    }
   ],
   "source": [
    "logit_hat_Upgrade.plot()"
   ]
  },
  {
   "cell_type": "code",
   "execution_count": 61,
   "metadata": {
    "collapsed": false
   },
   "outputs": [
    {
     "data": {
      "text/plain": [
       "53425"
      ]
     },
     "execution_count": 61,
     "metadata": {},
     "output_type": "execute_result"
    }
   ],
   "source": [
    "((logit_hat_Upgrade >= 0) == (c == 1)).sum()"
   ]
  },
  {
   "cell_type": "code",
   "execution_count": 62,
   "metadata": {
    "collapsed": false
   },
   "outputs": [
    {
     "data": {
      "text/plain": [
       "0.60886660208558896"
      ]
     },
     "execution_count": 62,
     "metadata": {},
     "output_type": "execute_result"
    }
   ],
   "source": [
    "((logit_hat_Upgrade >= 0) == (c == 1)).mean()"
   ]
  },
  {
   "cell_type": "markdown",
   "metadata": {},
   "source": [
    "##convert log odds to odds ratios by taking the exponent"
   ]
  },
  {
   "cell_type": "code",
   "execution_count": 63,
   "metadata": {
    "collapsed": true
   },
   "outputs": [],
   "source": [
    "odds_hat_Upgrade = np.exp(logit_hat_Upgrade)"
   ]
  },
  {
   "cell_type": "code",
   "execution_count": 64,
   "metadata": {
    "collapsed": false
   },
   "outputs": [
    {
     "data": {
      "text/plain": [
       "<matplotlib.axes._subplots.AxesSubplot at 0x7f7308defad0>"
      ]
     },
     "execution_count": 64,
     "metadata": {},
     "output_type": "execute_result"
    },
    {
     "data": {
      "image/png": "[encoded data removed]",
      "text/plain": [
       "<matplotlib.figure.Figure at 0x7f731439cad0>"
      ]
     },
     "metadata": {},
     "output_type": "display_data"
    }
   ],
   "source": [
    "odds_hat_Upgrade.plot()"
   ]
  },
  {
   "cell_type": "code",
   "execution_count": 65,
   "metadata": {
    "collapsed": false
   },
   "outputs": [
    {
     "data": {
      "text/plain": [
       "53425"
      ]
     },
     "execution_count": 65,
     "metadata": {},
     "output_type": "execute_result"
    }
   ],
   "source": [
    "((odds_hat_Upgrade >= 1) == (c == 1)).sum()"
   ]
  },
  {
   "cell_type": "code",
   "execution_count": 66,
   "metadata": {
    "collapsed": false
   },
   "outputs": [
    {
     "data": {
      "text/plain": [
       "0.60886660208558896"
      ]
     },
     "execution_count": 66,
     "metadata": {},
     "output_type": "execute_result"
    }
   ],
   "source": [
    "((odds_hat_Upgrade >= 1) == (c == 1)).mean()"
   ]
  },
  {
   "cell_type": "markdown",
   "metadata": {},
   "source": [
    "##convert odds ratio to probability scores"
   ]
  },
  {
   "cell_type": "code",
   "execution_count": 67,
   "metadata": {
    "collapsed": true
   },
   "outputs": [],
   "source": [
    "p_hat_Upgrade = odds_hat_Upgrade / (1 + odds_hat_Upgrade)"
   ]
  },
  {
   "cell_type": "code",
   "execution_count": 68,
   "metadata": {
    "collapsed": false
   },
   "outputs": [
    {
     "data": {
      "text/plain": [
       "<matplotlib.axes._subplots.AxesSubplot at 0x7f7308d00110>"
      ]
     },
     "execution_count": 68,
     "metadata": {},
     "output_type": "execute_result"
    },
    {
     "data": {
      "image/png": "[encoded data removed]",
      "text/plain": [
       "<matplotlib.figure.Figure at 0x7f7308f21350>"
      ]
     },
     "metadata": {},
     "output_type": "display_data"
    }
   ],
   "source": [
    "p_hat_Upgrade.plot()"
   ]
  },
  {
   "cell_type": "code",
   "execution_count": 69,
   "metadata": {
    "collapsed": false
   },
   "outputs": [
    {
     "data": {
      "text/plain": [
       "53425"
      ]
     },
     "execution_count": 69,
     "metadata": {},
     "output_type": "execute_result"
    }
   ],
   "source": [
    "((p_hat_Upgrade >= .5) == (c == 1)).sum()"
   ]
  },
  {
   "cell_type": "code",
   "execution_count": 70,
   "metadata": {
    "collapsed": false
   },
   "outputs": [
    {
     "data": {
      "text/plain": [
       "0.60886660208558896"
      ]
     },
     "execution_count": 70,
     "metadata": {},
     "output_type": "execute_result"
    }
   ],
   "source": [
    "((p_hat_Upgrade >= .5) == (c == 1)).mean()"
   ]
  },
  {
   "cell_type": "code",
   "execution_count": 71,
   "metadata": {
    "collapsed": true
   },
   "outputs": [],
   "source": [
    "c_hat_Upgrade = p_hat_Upgrade.round()"
   ]
  },
  {
   "cell_type": "code",
   "execution_count": 72,
   "metadata": {
    "collapsed": false
   },
   "outputs": [
    {
     "data": {
      "text/html": [
       "<div>\n",
       "<table border=\"1\" class=\"dataframe\">\n",
       "  <thead>\n",
       "    <tr style=\"text-align: right;\">\n",
       "      <th>Actual</th>\n",
       "      <th>0</th>\n",
       "      <th>1</th>\n",
       "    </tr>\n",
       "    <tr>\n",
       "      <th>Predicted</th>\n",
       "      <th></th>\n",
       "      <th></th>\n",
       "    </tr>\n",
       "  </thead>\n",
       "  <tbody>\n",
       "    <tr>\n",
       "      <th>0.0</th>\n",
       "      <td>51757</td>\n",
       "      <td>849</td>\n",
       "    </tr>\n",
       "    <tr>\n",
       "      <th>1.0</th>\n",
       "      <td>33471</td>\n",
       "      <td>1668</td>\n",
       "    </tr>\n",
       "  </tbody>\n",
       "</table>\n",
       "</div>"
      ],
      "text/plain": [
       "Actual         0     1\n",
       "Predicted             \n",
       "0.0        51757   849\n",
       "1.0        33471  1668"
      ]
     },
     "execution_count": 72,
     "metadata": {},
     "output_type": "execute_result"
    }
   ],
   "source": [
    "pd.crosstab(c_hat_Upgrade,\n",
    "    c,\n",
    "    rownames = ['Predicted'],\n",
    "    colnames = ['Actual'])\n",
    "\n",
    "#how does this look when aggregated at the account level?\n",
    "#grab all the account ids from 1:1 and see how many times they appear in 0:1 "
   ]
  },
  {
   "cell_type": "code",
   "execution_count": 95,
   "metadata": {
    "collapsed": false
   },
   "outputs": [
    {
     "name": "stdout",
     "output_type": "stream",
     "text": [
      "The scikit-learn version is 0.17.1.\n"
     ]
    }
   ],
   "source": [
    "print('The scikit-learn version is {}.'.format(sklearn.__version__))"
   ]
  },
  {
   "cell_type": "code",
   "execution_count": 12,
   "metadata": {
    "collapsed": false
   },
   "outputs": [
    {
     "ename": "NameError",
     "evalue": "name 'c_hat_Upgrade' is not defined",
     "output_type": "error",
     "traceback": [
      "\u001b[1;31m---------------------------------------------------------------------------\u001b[0m",
      "\u001b[1;31mNameError\u001b[0m                                 Traceback (most recent call last)",
      "\u001b[1;32m<ipython-input-12-348869302907>\u001b[0m in \u001b[0;36m<module>\u001b[1;34m()\u001b[0m\n\u001b[1;32m----> 1\u001b[1;33m \u001b[0mc_hat_Upgrade\u001b[0m\u001b[1;33m\u001b[0m\u001b[0m\n\u001b[0m",
      "\u001b[1;31mNameError\u001b[0m: name 'c_hat_Upgrade' is not defined"
     ]
    }
   ],
   "source": [
    "c_hat_Upgrade"
   ]
  },
  {
   "cell_type": "code",
   "execution_count": null,
   "metadata": {
    "collapsed": true
   },
   "outputs": [],
   "source": []
  }
 ],
 "metadata": {
  "kernelspec": {
   "display_name": "Python 2",
   "language": "python",
   "name": "python2"
  },
  "language_info": {
   "codemirror_mode": {
    "name": "ipython",
    "version": 2
   },
   "file_extension": ".py",
   "mimetype": "text/x-python",
   "name": "python",
   "nbconvert_exporter": "python",
   "pygments_lexer": "ipython2",
   "version": "2.7.13"
  }
 },
 "nbformat": 4,
 "nbformat_minor": 0
}
