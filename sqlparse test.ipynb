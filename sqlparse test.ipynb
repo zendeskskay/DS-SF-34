{
 "cells": [
  {
   "cell_type": "code",
   "execution_count": null,
   "metadata": {
    "collapsed": false
   },
   "outputs": [],
   "source": [
    "import sqlparse\n",
    "import pandas as pd\n",
    "sqlparse.split('select * from (select * from bar);')"
   ]
  },
  {
   "cell_type": "code",
   "execution_count": 36,
   "metadata": {
    "collapsed": false
   },
   "outputs": [],
   "source": [
    "import sqlparse\n",
    "from sqlparse.sql import IdentifierList, Identifier\n",
    "from sqlparse.tokens import Keyword, DML\n",
    "\n",
    "\n",
    "def is_subselect(parsed):\n",
    "    if not parsed.is_group:\n",
    "        return False\n",
    "    for item in parsed.tokens:\n",
    "        if item.ttype is DML and item.value.upper() == 'SELECT':\n",
    "            return True\n",
    "    return False\n",
    "\n",
    "\n",
    "def extract_from_part(parsed):\n",
    "    from_seen = False\n",
    "    for item in parsed.tokens:\n",
    "        if from_seen:\n",
    "            if is_subselect(item):\n",
    "                for x in extract_from_part(item):\n",
    "                    yield x\n",
    "            elif item.ttype is Keyword:\n",
    "                raise StopIteration\n",
    "            else:\n",
    "                yield item\n",
    "        elif item.ttype is Keyword and item.value.upper() == 'FROM':\n",
    "            from_seen = True\n",
    "\n",
    "\n",
    "def extract_table_identifiers(token_stream):\n",
    "    for item in token_stream:\n",
    "        if isinstance(item, IdentifierList):\n",
    "            for identifier in item.get_identifiers():\n",
    "                yield identifier.get_name()\n",
    "        elif isinstance(item, Identifier):\n",
    "            yield item.get_name()\n",
    "        # It's a bug to check for Keyword here, but in the example\n",
    "        # above some tables names are identified as keywords...\n",
    "        elif item.ttype is Keyword:\n",
    "            yield item.value\n",
    "\n",
    "\n",
    "def extract_tables(sql):\n",
    "    stream = extract_from_part(sqlparse.parse(sql)[0])\n",
    "    return list(extract_table_identifiers(stream))\n"
   ]
  },
  {
   "cell_type": "code",
   "execution_count": 4,
   "metadata": {
    "collapsed": false
   },
   "outputs": [
    {
     "name": "stderr",
     "output_type": "stream",
     "text": [
      "Skipping line 464: expected 12 fields, saw 62\n",
      "Skipping line 679: expected 12 fields, saw 42\n",
      "Skipping line 2621: expected 12 fields, saw 22\n",
      "Skipping line 5351: expected 12 fields, saw 32\n",
      "Skipping line 10460: expected 12 fields, saw 22\n",
      "Skipping line 10461: expected 12 fields, saw 32\n",
      "\n"
     ]
    }
   ],
   "source": [
    "sql_text = pd.read_csv('slow_log_sql_text.csv',  error_bad_lines=False)"
   ]
  },
  {
   "cell_type": "code",
   "execution_count": 67,
   "metadata": {
    "collapsed": false
   },
   "outputs": [],
   "source": [
    "x = sql_text.sql_text.loc[10]"
   ]
  },
  {
   "cell_type": "code",
   "execution_count": 68,
   "metadata": {
    "collapsed": false
   },
   "outputs": [
    {
     "data": {
      "text/plain": [
       "\"SELECT  num_trials, setup_email, round(setup_email / num_trials * 100, 2) as setup_email_perc,   invited_agents, round(invited_agents / num_trials * 100, 2) as invited_agents_perc,   num_trials_gsuite, setup_email_gsuite, round(setup_email_gsuite / num_trials_gsuite * 100, 2) as setup_email_gsuite_perc,   invited_agents_gsuite, round(invited_agents_gsuite / num_trials_gsuite * 100, 2) as invited_agents_gsuite_perc FROM   (SELECT COUNT(*) as num_trials   FROM redshift_account r   JOIN brand_routes b USING (run_at, account_id)   JOIN accounts_settings s USING (run_at, account_id)   WHERE r.data_collection_status = 'Current'     AND r.derived_account_type = 'Trial'     AND b.gam_domain IS NULL     AND s.has_google_apps_admin = 0   ) AS t,    (SELECT COUNT(*) as setup_email   FROM redshift_account r   JOIN brand_routes b USING (run_at, account_id)   JOIN accounts_settings s USING (run_at, account_id)   JOIN support_addresses e USING (run_at, account_id)   WHERE r.data_collection_status = 'Current'     AND r.derived_account_type = 'Trial'     AND e.external > 0     AND b.gam_domain IS NULL     AND s.has_google_apps_admin = 0   ) AS s,    (SELECT COUNT(*) as invited_agents   FROM redshift_account r   JOIN brand_routes b USING (run_at, account_id)   JOIN accounts_settings s USING (run_at, account_id)   LEFT JOIN (     SELECT account_id, COUNT(account_id) AS num_agents     FROM agent_email_addresses     WHERE run_at = (SELECT MAX(run_at) FROM redshift_account)    GROUP BY account_id   ) AS n USING (account_id)   WHERE r.data_collection_status = 'Current'     AND r.derived_account_type = 'Trial'     AND b.gam_domain IS NULL     AND s.has_google_apps_admin = 0     AND n.num_agents > 1   ) AS i,      (SELECT COUNT(*) as num_trials_gsuite   FROM redshift_account r   JOIN brand_routes b USING (run_at, account_id)   JOIN login_settings l USING (run_at, account_id)   JOIN accounts_settings s USING (run_at, account_id)   WHERE r.data_collection_status = 'Current'     AND r.derived_account_type = 'Trial'     AND l.agent_google_login = 1     AND b.gam_domain IS NOT NULL     AND s.has_google_apps_admin = 1   ) AS t_gsuite,    (SELECT COUNT(*) as setup_email_gsuite   FROM redshift_account r   JOIN brand_routes b USING (run_at, account_id)   JOIN login_settings l USING (run_at, account_id)   JOIN accounts_settings s USING (run_at, account_id)   JOIN support_addresses e USING (run_at, account_id)   WHERE r.data_collection_status = 'Current'     AND r.derived_account_type = 'Trial'     AND l.agent_google_login = 1     AND b.gam_domain IS NOT NULL     AND s.has_google_apps_admin = 1     AND e.external > 0   ) AS s_gsuite,    (SELECT COUNT(*) as invited_agents_gsuite   FROM redshift_account r   JOIN brand_routes b USING (run_at, account_id)   JOIN login_settings l USING (run_at, account_id)   JOIN accounts_settings s USING (run_at, account_id)   LEFT JOIN (     SELECT account_id, COUNT(account_id) AS num_agents     FROM agent_email_addresses     WHERE run_at = (SELECT MAX(run_at) FROM redshift_account)     GROUP BY account_id   ) AS n USING (account_id)   WHERE r.data_collection_status = 'Current'     AND r.derived_account_type = 'Trial'     AND l.agent_google_login = 1     AND b.gam_domain IS NOT NULL     AND s.has_google_apps_admin = 1     AND n.num_agents > 1   ) AS i_gsuite\""
      ]
     },
     "execution_count": 68,
     "metadata": {},
     "output_type": "execute_result"
    }
   ],
   "source": [
    "x"
   ]
  },
  {
   "cell_type": "code",
   "execution_count": 62,
   "metadata": {
    "collapsed": false
   },
   "outputs": [
    {
     "name": "stdout",
     "output_type": "stream",
     "text": [
      "(<Statement 'select...' at 0x106FC45D0>,)\n",
      "(<Statement 'select...' at 0x106FC46D0>,)\n",
      "(<Statement 'SELECT...' at 0x1090593D0>,)\n",
      "(<Statement 'SELECT...' at 0x109069850>,)\n",
      "(<Statement 'SELECT...' at 0x109069950>,)\n",
      "(<Statement 'select...' at 0x109069A50>,)\n",
      "(<Statement 'select...' at 0x10905F750>,)\n",
      "(<Statement 'SELECT...' at 0x109069A50>,)\n",
      "(<Statement 'SELECT...' at 0x109059650>,)\n",
      "(<Statement 'SELECT...' at 0x109059250>,)\n",
      "(<Statement 'SELECT...' at 0x10905EBD0>,)\n",
      "(<Statement 'select...' at 0x109061250>,)\n",
      "(<Statement 'SELECT...' at 0x10A553650>,)\n",
      "(<Statement 'Select...' at 0x10A55AAD0>,)\n",
      "(<Statement 'Select...' at 0x10A55ACD0>,)\n",
      "(<Statement 'Select...' at 0x10A55AED0>,)\n",
      "(<Statement 'select...' at 0x10A561150>,)\n",
      "(<Statement 'Select...' at 0x10A56A1D0>,)\n",
      "(<Statement 'select...' at 0x10A56A3D0>,)\n",
      "(<Statement 'Select...' at 0x10A571250>,)\n"
     ]
    }
   ],
   "source": [
    "sql_text['parsed'] = \"\"\n",
    "for i in x:\n",
    "    print sqlparse.parse(i)\n"
   ]
  },
  {
   "cell_type": "code",
   "execution_count": 63,
   "metadata": {
    "collapsed": false
   },
   "outputs": [
    {
     "name": "stdout",
     "output_type": "stream",
     "text": [
      "Tables: active_agents\n",
      "Tables: accounts\n",
      "Tables: hc_search_metrics\n",
      "Tables: `redshift_account`\n",
      "Tables: `daily_push_to_sfdc`\n",
      "Tables: ai\n",
      "Tables: jig_metrics\n",
      "Tables: r\n",
      "Tables: r\n",
      "Tables: r\n",
      "Tables: t, s, i, t_gsuite, s_gsuite, i_gsuite\n",
      "Tables: ai\n",
      "Tables: r\n",
      "Tables: tickets\n",
      "Tables: accounts\n",
      "Tables: accounts\n",
      "Tables: \n",
      "Tables: tickets\n",
      "Tables: r\n",
      "Tables: roles\n"
     ]
    }
   ],
   "source": [
    "for i in x:\n",
    "    if __name__ == '__main__':\n",
    "        sql = i\n",
    "        tables = ', '.join(extract_tables(sql))\n",
    "        print('Tables: {0}'.format(tables))"
   ]
  },
  {
   "cell_type": "code",
   "execution_count": null,
   "metadata": {
    "collapsed": true
   },
   "outputs": [],
   "source": []
  }
 ],
 "metadata": {
  "kernelspec": {
   "display_name": "Python 2",
   "language": "python",
   "name": "python2"
  },
  "language_info": {
   "codemirror_mode": {
    "name": "ipython",
    "version": 2
   },
   "file_extension": ".py",
   "mimetype": "text/x-python",
   "name": "python",
   "nbconvert_exporter": "python",
   "pygments_lexer": "ipython2",
   "version": "2.7.13"
  }
 },
 "nbformat": 4,
 "nbformat_minor": 0
}
